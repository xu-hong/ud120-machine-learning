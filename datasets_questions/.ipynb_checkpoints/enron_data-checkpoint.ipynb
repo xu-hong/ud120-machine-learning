{
 "cells": [
  {
   "cell_type": "code",
   "execution_count": 56,
   "metadata": {
    "collapsed": false
   },
   "outputs": [
    {
     "name": "stdout",
     "output_type": "stream",
     "text": [
      "Overwriting explore_enron_data.py\n"
     ]
    }
   ],
   "source": [
    "%%writefile explore_enron_data.py\n",
    "# %load explore_enron_data.py\n",
    "#!/usr/bin/python\n",
    "\n",
    "\"\"\" \n",
    "    starter code for exploring the Enron dataset (emails + finances) \n",
    "    loads up the dataset (pickled dict of dicts)\n",
    "\n",
    "    the dataset has the form\n",
    "    enron_data[\"LASTNAME FIRSTNAME MIDDLEINITIAL\"] = { features_dict }\n",
    "\n",
    "    {features_dict} is a dictionary of features associated with that person\n",
    "    you should explore features_dict as part of the mini-project,\n",
    "    but here's an example to get you started:\n",
    "\n",
    "    enron_data[\"SKILLING JEFFREY K\"][\"bonus\"] = 5600000\n",
    "    \n",
    "\"\"\"\n",
    "\n",
    "import pickle\n",
    "\n",
    "enron_data = pickle.load(open(\"../final_project/final_project_dataset.pkl\", \"r\"))\n",
    "\n",
    "\n",
    "\n",
    "print len(enron_data.keys())\n",
    "print len(enron_data.values()[0].keys())\n",
    "print enron_data.keys()\n",
    "import re\n",
    "name = re.compile(\"(\\w+),[ ](\\w+)\")\n",
    "poi_names = []\n",
    "\n",
    "with open(\"../final_project/poi_names.txt\", \"r\") as f:\n",
    "    for line in f:\n",
    "        m = name.search(line)\n",
    "        if m is not None: \n",
    "            poi_names.append(m.group(1) + \" \" + m.group(2))\n",
    "\n",
    "print poi_names \n",
    "print len(poi_names)\n",
    "poi_names_indata = [name for name in enron_data.keys() if enron_data[name]['poi'] == True]\n",
    "print len(poi_names_indata)\n",
    "print poi_names_indata\n",
    "print enron_data[\"SKILLING JEFFREY K\"]['total_payments']\n",
    "print enron_data['LAY KENNETH L']['total_payments']\n",
    "print enron_data['FASTOW ANDREW S']['total_payments']\n",
    "print enron_data['PRENTICE JAMES']\n",
    "print enron_data['COLWELL WESLEY']\n",
    "print enron_data[\"SKILLING JEFFREY K\"]\n",
    "\n",
    "quantified_salaries = [ executive['salary'] for executive in enron_data.values() if executive['salary'] != 'NaN']\n",
    "print len(quantified_salaries)\n",
    "known_emails = [ executive['email_address'] for executive in enron_data.values() if executive['email_address'] != 'NaN']\n",
    "print len(known_emails)\n",
    "known_payments = [ executive['total_payments'] for executive in enron_data.values() if executive['total_payments'] != 'NaN']\n",
    "print len(known_payments)\n",
    "\n",
    "\n",
    "known_payments_poi = [ executive for executive in enron_data.keys() if enron_data[executive]['total_payments'] != 'NaN' and executive in poi_names_indata]\n",
    "print len(known_payments_poi) == len(poi_names_indata)\n",
    "\n",
    "\n",
    "\n"
   ]
  },
  {
   "cell_type": "code",
   "execution_count": null,
   "metadata": {
    "collapsed": true
   },
   "outputs": [],
   "source": []
  }
 ],
 "metadata": {
  "kernelspec": {
   "display_name": "Python 2",
   "language": "python",
   "name": "python2"
  },
  "language_info": {
   "codemirror_mode": {
    "name": "ipython",
    "version": 2
   },
   "file_extension": ".py",
   "mimetype": "text/x-python",
   "name": "python",
   "nbconvert_exporter": "python",
   "pygments_lexer": "ipython2",
   "version": "2.7.9"
  }
 },
 "nbformat": 4,
 "nbformat_minor": 0
}
